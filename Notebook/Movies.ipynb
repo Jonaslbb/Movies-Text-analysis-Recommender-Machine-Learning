{
  "nbformat": 4,
  "nbformat_minor": 0,
  "metadata": {
    "colab": {
      "name": "Movies",
      "provenance": [],
      "include_colab_link": true
    },
    "kernelspec": {
      "name": "python3",
      "display_name": "Python 3"
    }
  },
  "cells": [
    {
      "cell_type": "markdown",
      "metadata": {
        "id": "view-in-github",
        "colab_type": "text"
      },
      "source": [
        "<a href=\"https://colab.research.google.com/github/Jonaslbb/Movies-Text-analysis-Recommender-Machine-Learning/blob/main/Notebook/Movies.ipynb\" target=\"_parent\"><img src=\"https://colab.research.google.com/assets/colab-badge.svg\" alt=\"Open In Colab\"/></a>"
      ]
    },
    {
      "cell_type": "code",
      "metadata": {
        "id": "2AgERSK_pAsb"
      },
      "source": [
        "import pandas as pd\n",
        "import numpy as np"
      ],
      "execution_count": null,
      "outputs": []
    },
    {
      "cell_type": "code",
      "metadata": {
        "id": "9bAOKy50pJHc"
      },
      "source": [
        "movies = pd.read_csv(\"https://raw.githubusercontent.com/MSvante/AAU-SDS-2020/master/Module2/tmdb_5000_movies.csv\")\n",
        "credits = pd.read_csv(\"https://raw.githubusercontent.com/MSvante/AAU-SDS-2020/master/Module2/tmdb_5000_credits.csv\")"
      ],
      "execution_count": null,
      "outputs": []
    },
    {
      "cell_type": "code",
      "metadata": {
        "id": "LdXDdJyJq_5P",
        "colab": {
          "base_uri": "https://localhost:8080/"
        },
        "outputId": "3ed84e7a-f6b8-4794-e85f-485ffacbf9e9"
      },
      "source": [
        "movies.info()"
      ],
      "execution_count": null,
      "outputs": [
        {
          "output_type": "stream",
          "text": [
            "<class 'pandas.core.frame.DataFrame'>\n",
            "RangeIndex: 4803 entries, 0 to 4802\n",
            "Data columns (total 20 columns):\n",
            " #   Column                Non-Null Count  Dtype  \n",
            "---  ------                --------------  -----  \n",
            " 0   budget                4803 non-null   int64  \n",
            " 1   genres                4803 non-null   object \n",
            " 2   homepage              1712 non-null   object \n",
            " 3   id                    4803 non-null   int64  \n",
            " 4   keywords              4803 non-null   object \n",
            " 5   original_language     4803 non-null   object \n",
            " 6   original_title        4803 non-null   object \n",
            " 7   overview              4800 non-null   object \n",
            " 8   popularity            4803 non-null   float64\n",
            " 9   production_companies  4803 non-null   object \n",
            " 10  production_countries  4803 non-null   object \n",
            " 11  release_date          4802 non-null   object \n",
            " 12  revenue               4803 non-null   int64  \n",
            " 13  runtime               4801 non-null   float64\n",
            " 14  spoken_languages      4803 non-null   object \n",
            " 15  status                4803 non-null   object \n",
            " 16  tagline               3959 non-null   object \n",
            " 17  title                 4803 non-null   object \n",
            " 18  vote_average          4803 non-null   float64\n",
            " 19  vote_count            4803 non-null   int64  \n",
            "dtypes: float64(3), int64(4), object(13)\n",
            "memory usage: 750.6+ KB\n"
          ],
          "name": "stdout"
        }
      ]
    },
    {
      "cell_type": "code",
      "metadata": {
        "id": "R7MAARihpSr7",
        "colab": {
          "base_uri": "https://localhost:8080/",
          "height": 702
        },
        "outputId": "083f1565-feb7-4735-a1af-c18925e00464"
      },
      "source": [
        "movies.head()"
      ],
      "execution_count": null,
      "outputs": [
        {
          "output_type": "execute_result",
          "data": {
            "text/html": [
              "<div>\n",
              "<style scoped>\n",
              "    .dataframe tbody tr th:only-of-type {\n",
              "        vertical-align: middle;\n",
              "    }\n",
              "\n",
              "    .dataframe tbody tr th {\n",
              "        vertical-align: top;\n",
              "    }\n",
              "\n",
              "    .dataframe thead th {\n",
              "        text-align: right;\n",
              "    }\n",
              "</style>\n",
              "<table border=\"1\" class=\"dataframe\">\n",
              "  <thead>\n",
              "    <tr style=\"text-align: right;\">\n",
              "      <th></th>\n",
              "      <th>budget</th>\n",
              "      <th>genres</th>\n",
              "      <th>homepage</th>\n",
              "      <th>id</th>\n",
              "      <th>keywords</th>\n",
              "      <th>original_language</th>\n",
              "      <th>original_title</th>\n",
              "      <th>overview</th>\n",
              "      <th>popularity</th>\n",
              "      <th>production_companies</th>\n",
              "      <th>production_countries</th>\n",
              "      <th>release_date</th>\n",
              "      <th>revenue</th>\n",
              "      <th>runtime</th>\n",
              "      <th>spoken_languages</th>\n",
              "      <th>status</th>\n",
              "      <th>tagline</th>\n",
              "      <th>title</th>\n",
              "      <th>vote_average</th>\n",
              "      <th>vote_count</th>\n",
              "    </tr>\n",
              "  </thead>\n",
              "  <tbody>\n",
              "    <tr>\n",
              "      <th>0</th>\n",
              "      <td>237000000</td>\n",
              "      <td>[{\"id\": 28, \"name\": \"Action\"}, {\"id\": 12, \"nam...</td>\n",
              "      <td>http://www.avatarmovie.com/</td>\n",
              "      <td>19995</td>\n",
              "      <td>[{\"id\": 1463, \"name\": \"culture clash\"}, {\"id\":...</td>\n",
              "      <td>en</td>\n",
              "      <td>Avatar</td>\n",
              "      <td>In the 22nd century, a paraplegic Marine is di...</td>\n",
              "      <td>150.437577</td>\n",
              "      <td>[{\"name\": \"Ingenious Film Partners\", \"id\": 289...</td>\n",
              "      <td>[{\"iso_3166_1\": \"US\", \"name\": \"United States o...</td>\n",
              "      <td>2009-12-10</td>\n",
              "      <td>2787965087</td>\n",
              "      <td>162.0</td>\n",
              "      <td>[{\"iso_639_1\": \"en\", \"name\": \"English\"}, {\"iso...</td>\n",
              "      <td>Released</td>\n",
              "      <td>Enter the World of Pandora.</td>\n",
              "      <td>Avatar</td>\n",
              "      <td>7.2</td>\n",
              "      <td>11800</td>\n",
              "    </tr>\n",
              "    <tr>\n",
              "      <th>1</th>\n",
              "      <td>300000000</td>\n",
              "      <td>[{\"id\": 12, \"name\": \"Adventure\"}, {\"id\": 14, \"...</td>\n",
              "      <td>http://disney.go.com/disneypictures/pirates/</td>\n",
              "      <td>285</td>\n",
              "      <td>[{\"id\": 270, \"name\": \"ocean\"}, {\"id\": 726, \"na...</td>\n",
              "      <td>en</td>\n",
              "      <td>Pirates of the Caribbean: At World's End</td>\n",
              "      <td>Captain Barbossa, long believed to be dead, ha...</td>\n",
              "      <td>139.082615</td>\n",
              "      <td>[{\"name\": \"Walt Disney Pictures\", \"id\": 2}, {\"...</td>\n",
              "      <td>[{\"iso_3166_1\": \"US\", \"name\": \"United States o...</td>\n",
              "      <td>2007-05-19</td>\n",
              "      <td>961000000</td>\n",
              "      <td>169.0</td>\n",
              "      <td>[{\"iso_639_1\": \"en\", \"name\": \"English\"}]</td>\n",
              "      <td>Released</td>\n",
              "      <td>At the end of the world, the adventure begins.</td>\n",
              "      <td>Pirates of the Caribbean: At World's End</td>\n",
              "      <td>6.9</td>\n",
              "      <td>4500</td>\n",
              "    </tr>\n",
              "    <tr>\n",
              "      <th>2</th>\n",
              "      <td>245000000</td>\n",
              "      <td>[{\"id\": 28, \"name\": \"Action\"}, {\"id\": 12, \"nam...</td>\n",
              "      <td>http://www.sonypictures.com/movies/spectre/</td>\n",
              "      <td>206647</td>\n",
              "      <td>[{\"id\": 470, \"name\": \"spy\"}, {\"id\": 818, \"name...</td>\n",
              "      <td>en</td>\n",
              "      <td>Spectre</td>\n",
              "      <td>A cryptic message from Bond’s past sends him o...</td>\n",
              "      <td>107.376788</td>\n",
              "      <td>[{\"name\": \"Columbia Pictures\", \"id\": 5}, {\"nam...</td>\n",
              "      <td>[{\"iso_3166_1\": \"GB\", \"name\": \"United Kingdom\"...</td>\n",
              "      <td>2015-10-26</td>\n",
              "      <td>880674609</td>\n",
              "      <td>148.0</td>\n",
              "      <td>[{\"iso_639_1\": \"fr\", \"name\": \"Fran\\u00e7ais\"},...</td>\n",
              "      <td>Released</td>\n",
              "      <td>A Plan No One Escapes</td>\n",
              "      <td>Spectre</td>\n",
              "      <td>6.3</td>\n",
              "      <td>4466</td>\n",
              "    </tr>\n",
              "    <tr>\n",
              "      <th>3</th>\n",
              "      <td>250000000</td>\n",
              "      <td>[{\"id\": 28, \"name\": \"Action\"}, {\"id\": 80, \"nam...</td>\n",
              "      <td>http://www.thedarkknightrises.com/</td>\n",
              "      <td>49026</td>\n",
              "      <td>[{\"id\": 849, \"name\": \"dc comics\"}, {\"id\": 853,...</td>\n",
              "      <td>en</td>\n",
              "      <td>The Dark Knight Rises</td>\n",
              "      <td>Following the death of District Attorney Harve...</td>\n",
              "      <td>112.312950</td>\n",
              "      <td>[{\"name\": \"Legendary Pictures\", \"id\": 923}, {\"...</td>\n",
              "      <td>[{\"iso_3166_1\": \"US\", \"name\": \"United States o...</td>\n",
              "      <td>2012-07-16</td>\n",
              "      <td>1084939099</td>\n",
              "      <td>165.0</td>\n",
              "      <td>[{\"iso_639_1\": \"en\", \"name\": \"English\"}]</td>\n",
              "      <td>Released</td>\n",
              "      <td>The Legend Ends</td>\n",
              "      <td>The Dark Knight Rises</td>\n",
              "      <td>7.6</td>\n",
              "      <td>9106</td>\n",
              "    </tr>\n",
              "    <tr>\n",
              "      <th>4</th>\n",
              "      <td>260000000</td>\n",
              "      <td>[{\"id\": 28, \"name\": \"Action\"}, {\"id\": 12, \"nam...</td>\n",
              "      <td>http://movies.disney.com/john-carter</td>\n",
              "      <td>49529</td>\n",
              "      <td>[{\"id\": 818, \"name\": \"based on novel\"}, {\"id\":...</td>\n",
              "      <td>en</td>\n",
              "      <td>John Carter</td>\n",
              "      <td>John Carter is a war-weary, former military ca...</td>\n",
              "      <td>43.926995</td>\n",
              "      <td>[{\"name\": \"Walt Disney Pictures\", \"id\": 2}]</td>\n",
              "      <td>[{\"iso_3166_1\": \"US\", \"name\": \"United States o...</td>\n",
              "      <td>2012-03-07</td>\n",
              "      <td>284139100</td>\n",
              "      <td>132.0</td>\n",
              "      <td>[{\"iso_639_1\": \"en\", \"name\": \"English\"}]</td>\n",
              "      <td>Released</td>\n",
              "      <td>Lost in our world, found in another.</td>\n",
              "      <td>John Carter</td>\n",
              "      <td>6.1</td>\n",
              "      <td>2124</td>\n",
              "    </tr>\n",
              "  </tbody>\n",
              "</table>\n",
              "</div>"
            ],
            "text/plain": [
              "      budget  ... vote_count\n",
              "0  237000000  ...      11800\n",
              "1  300000000  ...       4500\n",
              "2  245000000  ...       4466\n",
              "3  250000000  ...       9106\n",
              "4  260000000  ...       2124\n",
              "\n",
              "[5 rows x 20 columns]"
            ]
          },
          "metadata": {
            "tags": []
          },
          "execution_count": 129
        }
      ]
    },
    {
      "cell_type": "markdown",
      "metadata": {
        "id": "UYGgmICKQz6O"
      },
      "source": [
        "For this part of the assignment we'll only need 3 columns.\n",
        "The most important is overview, which contains a description of the plot for all the movies. This will be our source for NLP.\n",
        "In SML we'll try to predict genres and in UML we will create topics and find similar movies based on their overview."
      ]
    },
    {
      "cell_type": "code",
      "metadata": {
        "id": "LqgZO2h1vLl4"
      },
      "source": [
        "df = movies[[\"original_title\",\"genres\",\"overview\"]]"
      ],
      "execution_count": null,
      "outputs": []
    },
    {
      "cell_type": "code",
      "metadata": {
        "id": "eBHCQOH759Pi",
        "colab": {
          "base_uri": "https://localhost:8080/"
        },
        "outputId": "d2494b65-7142-4850-ac7f-2bf59e583ef4"
      },
      "source": [
        "import nltk\n",
        "nltk.download('stopwords')\n",
        "nltk.download('punkt')\n",
        "from nltk.corpus import stopwords\n",
        "from nltk.tokenize import word_tokenize\n",
        "\n",
        "stop_words = set(stopwords.words('english'))"
      ],
      "execution_count": null,
      "outputs": [
        {
          "output_type": "stream",
          "text": [
            "[nltk_data] Downloading package stopwords to /root/nltk_data...\n",
            "[nltk_data]   Package stopwords is already up-to-date!\n",
            "[nltk_data] Downloading package punkt to /root/nltk_data...\n",
            "[nltk_data]   Package punkt is already up-to-date!\n"
          ],
          "name": "stdout"
        }
      ]
    },
    {
      "cell_type": "markdown",
      "metadata": {
        "id": "dlHt3YFqSN8u"
      },
      "source": [
        "We download stopwords. Stopwords are very common words which often carry little meaning. We want to remove these to reduce noise, so the model can focus on words with more meaning for the understanding of the text."
      ]
    },
    {
      "cell_type": "code",
      "metadata": {
        "id": "BnYEhSvtgOiR"
      },
      "source": [
        "from gensim.parsing.porter import PorterStemmer\n",
        "stemmer = PorterStemmer()"
      ],
      "execution_count": null,
      "outputs": []
    },
    {
      "cell_type": "code",
      "metadata": {
        "id": "3EAio45E8AQA",
        "colab": {
          "base_uri": "https://localhost:8080/"
        },
        "outputId": "6a2d2348-ec1b-4635-9194-f42c8d6f9fde"
      },
      "source": [
        "df['overview']= df['overview'].apply(str)\n",
        "df[\"overview\"]= [x.lower() for x in df.overview]"
      ],
      "execution_count": null,
      "outputs": [
        {
          "output_type": "stream",
          "text": [
            "/usr/local/lib/python3.6/dist-packages/ipykernel_launcher.py:1: SettingWithCopyWarning: \n",
            "A value is trying to be set on a copy of a slice from a DataFrame.\n",
            "Try using .loc[row_indexer,col_indexer] = value instead\n",
            "\n",
            "See the caveats in the documentation: https://pandas.pydata.org/pandas-docs/stable/user_guide/indexing.html#returning-a-view-versus-a-copy\n",
            "  \"\"\"Entry point for launching an IPython kernel.\n",
            "/usr/local/lib/python3.6/dist-packages/ipykernel_launcher.py:2: SettingWithCopyWarning: \n",
            "A value is trying to be set on a copy of a slice from a DataFrame.\n",
            "Try using .loc[row_indexer,col_indexer] = value instead\n",
            "\n",
            "See the caveats in the documentation: https://pandas.pydata.org/pandas-docs/stable/user_guide/indexing.html#returning-a-view-versus-a-copy\n",
            "  \n"
          ],
          "name": "stderr"
        }
      ]
    },
    {
      "cell_type": "code",
      "metadata": {
        "id": "HrMxUFrD5xEm",
        "colab": {
          "base_uri": "https://localhost:8080/"
        },
        "outputId": "839f0714-fe95-4fb6-e13b-d57e64341adf"
      },
      "source": [
        "df[\"tokenized_text\"] = df['overview'].map(lambda row: [tok.lower() for tok in word_tokenize(row) if tok not in stop_words and tok.isalpha()])"
      ],
      "execution_count": null,
      "outputs": [
        {
          "output_type": "stream",
          "text": [
            "/usr/local/lib/python3.6/dist-packages/ipykernel_launcher.py:1: SettingWithCopyWarning: \n",
            "A value is trying to be set on a copy of a slice from a DataFrame.\n",
            "Try using .loc[row_indexer,col_indexer] = value instead\n",
            "\n",
            "See the caveats in the documentation: https://pandas.pydata.org/pandas-docs/stable/user_guide/indexing.html#returning-a-view-versus-a-copy\n",
            "  \"\"\"Entry point for launching an IPython kernel.\n"
          ],
          "name": "stderr"
        }
      ]
    },
    {
      "cell_type": "code",
      "metadata": {
        "id": "B_R2zyTDgOid",
        "colab": {
          "base_uri": "https://localhost:8080/"
        },
        "outputId": "1ea3b3d2-ecbc-4527-ffd6-d2eadbf60a2d"
      },
      "source": [
        "df[\"tokenized_text\"] = df[\"tokenized_text\"].map(lambda row: [stem for stem in stemmer.stem_documents(row)])"
      ],
      "execution_count": null,
      "outputs": [
        {
          "output_type": "stream",
          "text": [
            "/usr/local/lib/python3.6/dist-packages/ipykernel_launcher.py:1: SettingWithCopyWarning: \n",
            "A value is trying to be set on a copy of a slice from a DataFrame.\n",
            "Try using .loc[row_indexer,col_indexer] = value instead\n",
            "\n",
            "See the caveats in the documentation: https://pandas.pydata.org/pandas-docs/stable/user_guide/indexing.html#returning-a-view-versus-a-copy\n",
            "  \"\"\"Entry point for launching an IPython kernel.\n"
          ],
          "name": "stderr"
        }
      ]
    },
    {
      "cell_type": "markdown",
      "metadata": {
        "id": "F2PXYa43S4SG"
      },
      "source": [
        "We tokenize all the text. By tokenizing we split all words, which is necessary for some of the later code, like creating a dictionary.\n",
        "We also remove stopwords and everything there isn't alphabetic letters.\n",
        "Lastly we apply a stemmer on all text. This reduce every word to it's stem, so we dont have multiple word with the same meaning."
      ]
    },
    {
      "cell_type": "code",
      "metadata": {
        "id": "HQJ3jRi-8a79",
        "colab": {
          "base_uri": "https://localhost:8080/"
        },
        "outputId": "16c9de01-14d8-42eb-b58b-40e69938615e"
      },
      "source": [
        "# This is how \"Pirates of the Caribbean: At World's End\" looks after all the steps above\n",
        "df.tokenized_text[1]"
      ],
      "execution_count": null,
      "outputs": [
        {
          "output_type": "execute_result",
          "data": {
            "text/plain": [
              "['captain',\n",
              " 'barbossa',\n",
              " 'long',\n",
              " 'believ',\n",
              " 'dead',\n",
              " 'come',\n",
              " 'back',\n",
              " 'life',\n",
              " 'head',\n",
              " 'edg',\n",
              " 'earth',\n",
              " 'turner',\n",
              " 'elizabeth',\n",
              " 'swann',\n",
              " 'noth',\n",
              " 'quit',\n",
              " 'seem']"
            ]
          },
          "metadata": {
            "tags": []
          },
          "execution_count": 136
        }
      ]
    },
    {
      "cell_type": "code",
      "metadata": {
        "id": "Z78eu9_-KLju"
      },
      "source": [
        "from sklearn.model_selection import train_test_split"
      ],
      "execution_count": null,
      "outputs": []
    },
    {
      "cell_type": "code",
      "metadata": {
        "id": "kwpg59hGKRYL"
      },
      "source": [
        "movies_train,movies_test = train_test_split(df,random_state=17)"
      ],
      "execution_count": null,
      "outputs": []
    },
    {
      "cell_type": "markdown",
      "metadata": {
        "id": "9HROCVuWcvuq"
      },
      "source": [
        "We split our dataset into a test and training set, which will be necessary to make a SML model later. Since we didn't specify otherwise we'll get 75% of the data as training data, and the remaining as testing data"
      ]
    },
    {
      "cell_type": "code",
      "metadata": {
        "id": "QzAmSK60F_wr"
      },
      "source": [
        "from gensim.corpora.dictionary import Dictionary"
      ],
      "execution_count": null,
      "outputs": []
    },
    {
      "cell_type": "code",
      "metadata": {
        "id": "KbHhOM8OGCqr"
      },
      "source": [
        "dictionary = Dictionary(movies_train['tokenized_text'])"
      ],
      "execution_count": null,
      "outputs": []
    },
    {
      "cell_type": "code",
      "metadata": {
        "id": "nmPLxFR_GHyH",
        "colab": {
          "base_uri": "https://localhost:8080/"
        },
        "outputId": "219e1436-adb5-466d-849f-83fbd3971917"
      },
      "source": [
        "len(dictionary)"
      ],
      "execution_count": null,
      "outputs": [
        {
          "output_type": "execute_result",
          "data": {
            "text/plain": [
              "12817"
            ]
          },
          "metadata": {
            "tags": []
          },
          "execution_count": 141
        }
      ]
    },
    {
      "cell_type": "code",
      "metadata": {
        "id": "gfUP9EA9GLvf"
      },
      "source": [
        "dictionary.filter_extremes(no_below = 20,no_above=0.1)"
      ],
      "execution_count": null,
      "outputs": []
    },
    {
      "cell_type": "code",
      "metadata": {
        "id": "OfmiuoDHGQmn",
        "colab": {
          "base_uri": "https://localhost:8080/"
        },
        "outputId": "29964562-271b-41b7-a0aa-44ddd9551a2a"
      },
      "source": [
        "len(dictionary)"
      ],
      "execution_count": null,
      "outputs": [
        {
          "output_type": "execute_result",
          "data": {
            "text/plain": [
              "1006"
            ]
          },
          "metadata": {
            "tags": []
          },
          "execution_count": 143
        }
      ]
    },
    {
      "cell_type": "markdown",
      "metadata": {
        "id": "703by2gEdw11"
      },
      "source": [
        "We create a dictionary with all words found in the overview texts. This gives 12817 different words. To remove even more noise we remove every word which occurs less than 20 times and every word which occurs in more than 10% of the overviews. We're left with 1006 words in our dictionary "
      ]
    },
    {
      "cell_type": "code",
      "metadata": {
        "id": "3oyiegdFHJY-"
      },
      "source": [
        "import itertools\n",
        "from collections import Counter"
      ],
      "execution_count": null,
      "outputs": []
    },
    {
      "cell_type": "code",
      "metadata": {
        "id": "Fva8oJdTHLww"
      },
      "source": [
        "words_movies = itertools.chain(*df['tokenized_text'])"
      ],
      "execution_count": null,
      "outputs": []
    },
    {
      "cell_type": "code",
      "metadata": {
        "id": "8bLfIZivHQfi"
      },
      "source": [
        "counter = Counter(words_movies)"
      ],
      "execution_count": null,
      "outputs": []
    },
    {
      "cell_type": "code",
      "metadata": {
        "id": "TFPUtEARHaDE",
        "colab": {
          "base_uri": "https://localhost:8080/"
        },
        "outputId": "4520199f-787a-4912-95c5-40f68d60738a"
      },
      "source": [
        "counter.most_common(10)"
      ],
      "execution_count": null,
      "outputs": [
        {
          "output_type": "execute_result",
          "data": {
            "text/plain": [
              "[('find', 846),\n",
              " ('life', 810),\n",
              " ('new', 744),\n",
              " ('on', 701),\n",
              " ('world', 643),\n",
              " ('young', 630),\n",
              " ('get', 607),\n",
              " ('friend', 573),\n",
              " ('live', 565),\n",
              " ('famili', 562)]"
            ]
          },
          "metadata": {
            "tags": []
          },
          "execution_count": 147
        }
      ]
    },
    {
      "cell_type": "markdown",
      "metadata": {
        "id": "DBw-AF8PjqEy"
      },
      "source": [
        "These are the 10 most common words in the overviews. All these words seems perfect to discribe the plot of many movies, so it makes sense these words are the most common"
      ]
    },
    {
      "cell_type": "code",
      "metadata": {
        "id": "6Y4On2OVmVUA"
      },
      "source": [
        "train_bow = [dictionary.doc2bow(doc) for doc in movies_train['tokenized_text']]\n",
        "test_bow = [dictionary.doc2bow(doc) for doc in movies_test['tokenized_text']]"
      ],
      "execution_count": null,
      "outputs": []
    },
    {
      "cell_type": "code",
      "metadata": {
        "id": "JlWl_1Fnm7ew",
        "colab": {
          "base_uri": "https://localhost:8080/"
        },
        "outputId": "7cf0d86a-2825-418a-e6ca-345fba71d4c6"
      },
      "source": [
        "train_bow[0]"
      ],
      "execution_count": null,
      "outputs": [
        {
          "output_type": "execute_result",
          "data": {
            "text/plain": [
              "[(0, 1),\n",
              " (1, 1),\n",
              " (2, 1),\n",
              " (3, 1),\n",
              " (4, 1),\n",
              " (5, 1),\n",
              " (6, 1),\n",
              " (7, 1),\n",
              " (8, 1),\n",
              " (9, 2),\n",
              " (10, 1)]"
            ]
          },
          "metadata": {
            "tags": []
          },
          "execution_count": 149
        }
      ]
    },
    {
      "cell_type": "code",
      "metadata": {
        "id": "8Y1wS4qOnMkq",
        "colab": {
          "base_uri": "https://localhost:8080/",
          "height": 77
        },
        "outputId": "63cc9447-57e8-4999-c179-cfdb7152076c"
      },
      "source": [
        "movies_train[:1]"
      ],
      "execution_count": null,
      "outputs": [
        {
          "output_type": "execute_result",
          "data": {
            "text/html": [
              "<div>\n",
              "<style scoped>\n",
              "    .dataframe tbody tr th:only-of-type {\n",
              "        vertical-align: middle;\n",
              "    }\n",
              "\n",
              "    .dataframe tbody tr th {\n",
              "        vertical-align: top;\n",
              "    }\n",
              "\n",
              "    .dataframe thead th {\n",
              "        text-align: right;\n",
              "    }\n",
              "</style>\n",
              "<table border=\"1\" class=\"dataframe\">\n",
              "  <thead>\n",
              "    <tr style=\"text-align: right;\">\n",
              "      <th></th>\n",
              "      <th>original_title</th>\n",
              "      <th>genres</th>\n",
              "      <th>overview</th>\n",
              "      <th>tokenized_text</th>\n",
              "    </tr>\n",
              "  </thead>\n",
              "  <tbody>\n",
              "    <tr>\n",
              "      <th>1684</th>\n",
              "      <td>Walk the Line</td>\n",
              "      <td>[{\"id\": 18, \"name\": \"Drama\"}, {\"id\": 10402, \"n...</td>\n",
              "      <td>a chronicle of country music legend johnny cas...</td>\n",
              "      <td>[chronicl, countri, music, legend, johnni, cas...</td>\n",
              "    </tr>\n",
              "  </tbody>\n",
              "</table>\n",
              "</div>"
            ],
            "text/plain": [
              "     original_title  ...                                     tokenized_text\n",
              "1684  Walk the Line  ...  [chronicl, countri, music, legend, johnni, cas...\n",
              "\n",
              "[1 rows x 4 columns]"
            ]
          },
          "metadata": {
            "tags": []
          },
          "execution_count": 150
        }
      ]
    },
    {
      "cell_type": "code",
      "metadata": {
        "id": "_QDaP2TBnnn6",
        "colab": {
          "base_uri": "https://localhost:8080/",
          "height": 35
        },
        "outputId": "95430dc9-92ef-4365-bf3a-5baddccdb1f1"
      },
      "source": [
        "dictionary[1]"
      ],
      "execution_count": null,
      "outputs": [
        {
          "output_type": "execute_result",
          "data": {
            "application/vnd.google.colaboratory.intrinsic+json": {
              "type": "string"
            },
            "text/plain": [
              "'countri'"
            ]
          },
          "metadata": {
            "tags": []
          },
          "execution_count": 151
        }
      ]
    },
    {
      "cell_type": "markdown",
      "metadata": {
        "id": "OFcMUiNMmzpw"
      },
      "source": [
        "We create a \"bag of words\" representation. A BoW contains the whole dictionary and makes docs by assigning 1 to words which occurs in the doc and 0 to everything else. The example above has 11 different words, and one of them occors 2 times. The reason the text only has 11 words is becouse we reduced the dictionary, so many of the words (eg. names) are flitered out."
      ]
    },
    {
      "cell_type": "code",
      "metadata": {
        "id": "CZDxnbkbm_mL"
      },
      "source": [
        "from gensim.models.tfidfmodel import TfidfModel\n",
        "from gensim.models.lsimodel import LsiModel"
      ],
      "execution_count": null,
      "outputs": []
    },
    {
      "cell_type": "code",
      "metadata": {
        "id": "3zA3FK27nCbB"
      },
      "source": [
        "tfidf = TfidfModel(train_bow)"
      ],
      "execution_count": null,
      "outputs": []
    },
    {
      "cell_type": "code",
      "metadata": {
        "id": "ay8_osTYnFzT"
      },
      "source": [
        "train_tfidf = tfidf[train_bow]\n",
        "test_tfidf = tfidf[test_bow]"
      ],
      "execution_count": null,
      "outputs": []
    },
    {
      "cell_type": "code",
      "metadata": {
        "id": "enYexap3qjas",
        "colab": {
          "base_uri": "https://localhost:8080/"
        },
        "outputId": "4648e569-1b9c-497f-d10c-da4355d25d2c"
      },
      "source": [
        "train_tfidf[0]"
      ],
      "execution_count": null,
      "outputs": [
        {
          "output_type": "execute_result",
          "data": {
            "text/plain": [
              "[(0, 0.2936569734425363),\n",
              " (1, 0.22310387911490048),\n",
              " (2, 0.1736616830066712),\n",
              " (3, 0.27154744124766245),\n",
              " (4, 0.2867548593789943),\n",
              " (5, 0.2936569734425363),\n",
              " (6, 0.288966451626396),\n",
              " (7, 0.28256734699642844),\n",
              " (8, 0.23092885066383262),\n",
              " (9, 0.5611614159177484),\n",
              " (10, 0.24506100488003563)]"
            ]
          },
          "metadata": {
            "tags": []
          },
          "execution_count": 155
        }
      ]
    },
    {
      "cell_type": "code",
      "metadata": {
        "id": "OsSp-7ZXq7NQ",
        "colab": {
          "base_uri": "https://localhost:8080/"
        },
        "outputId": "497b0e42-4a7d-4b93-e85c-5021d7388474"
      },
      "source": [
        "print(dictionary[2])\n",
        "print(dictionary[9])"
      ],
      "execution_count": null,
      "outputs": [
        {
          "output_type": "stream",
          "text": [
            "dai\n",
            "record\n"
          ],
          "name": "stdout"
        }
      ]
    },
    {
      "cell_type": "markdown",
      "metadata": {
        "id": "nB_ECKXmqixM"
      },
      "source": [
        "Then we transform our data using tfidf. tfidf gives a numerical value based on how often a word is represented in the doc and dictionarty. If the word is super common it's given a low score and if it's uncommon it's given a high score. The reason is that specific/less used words often are important to the meaning of the text.\n",
        "In the example above (walk the line) the word with the lowers score is \"dai/day\", while the word with the highest score is \"record\". It makes sense that \"record\" carries a lot of meaning when describing a movie about a musician."
      ]
    },
    {
      "cell_type": "code",
      "metadata": {
        "id": "yjeLFLQRnIFJ"
      },
      "source": [
        "movies_lsi = LsiModel(train_tfidf, num_topics = 10, id2word=dictionary)"
      ],
      "execution_count": null,
      "outputs": []
    },
    {
      "cell_type": "code",
      "metadata": {
        "id": "upw9WIo_k_83"
      },
      "source": [
        "train_corpus_lsi = movies_lsi[train_tfidf]"
      ],
      "execution_count": null,
      "outputs": []
    },
    {
      "cell_type": "code",
      "metadata": {
        "id": "jb_5-_VPnTEm",
        "colab": {
          "base_uri": "https://localhost:8080/"
        },
        "outputId": "e35e8397-3fa3-4521-bad1-8b43c8fb6011"
      },
      "source": [
        "movies_lsi.print_topics(10)"
      ],
      "execution_count": null,
      "outputs": [
        {
          "output_type": "execute_result",
          "data": {
            "text/plain": [
              "[(0,\n",
              "  '0.133*\"famili\" + 0.124*\"love\" + 0.122*\"stori\" + 0.107*\"year\" + 0.100*\"father\" + 0.099*\"must\" + 0.096*\"make\" + 0.094*\"film\" + 0.091*\"forc\" + 0.089*\"come\"'),\n",
              " (1,\n",
              "  '0.250*\"love\" + 0.208*\"school\" + -0.151*\"war\" + 0.151*\"high\" + -0.150*\"forc\" + 0.147*\"stori\" + -0.144*\"agent\" + -0.142*\"mission\" + -0.141*\"team\" + -0.140*\"must\"'),\n",
              " (2,\n",
              "  '-0.536*\"film\" + -0.327*\"stori\" + -0.190*\"war\" + -0.185*\"movi\" + 0.185*\"famili\" + 0.164*\"father\" + 0.146*\"son\" + -0.143*\"star\" + 0.127*\"mother\" + 0.118*\"daughter\"'),\n",
              " (3,\n",
              "  '-0.505*\"school\" + -0.376*\"high\" + 0.236*\"stori\" + 0.233*\"famili\" + -0.232*\"student\" + 0.148*\"son\" + -0.130*\"teacher\" + -0.129*\"colleg\" + 0.129*\"mother\" + 0.125*\"father\"'),\n",
              " (4,\n",
              "  '0.367*\"film\" + -0.223*\"love\" + -0.215*\"war\" + -0.179*\"stori\" + 0.156*\"murder\" + 0.145*\"polic\" + 0.132*\"york\" + 0.129*\"angel\" + 0.126*\"lo\" + 0.120*\"drug\"'),\n",
              " (5,\n",
              "  '-0.366*\"love\" + 0.273*\"film\" + -0.211*\"fall\" + 0.181*\"town\" + 0.165*\"famili\" + -0.157*\"citi\" + 0.149*\"teenag\" + -0.141*\"york\" + -0.135*\"woman\" + -0.134*\"agent\"'),\n",
              " (6,\n",
              "  '0.357*\"stori\" + 0.258*\"school\" + -0.226*\"love\" + 0.219*\"war\" + 0.172*\"murder\" + 0.164*\"high\" + -0.161*\"film\" + 0.129*\"true\" + 0.124*\"town\" + 0.122*\"famili\"'),\n",
              " (7,\n",
              "  '-0.336*\"war\" + -0.276*\"famili\" + 0.256*\"town\" + 0.224*\"stori\" + -0.196*\"home\" + 0.171*\"mysteri\" + 0.166*\"discov\" + 0.155*\"murder\" + 0.132*\"love\" + 0.123*\"killer\"'),\n",
              " (8,\n",
              "  '0.278*\"citi\" + 0.244*\"love\" + 0.242*\"town\" + -0.234*\"stori\" + 0.213*\"fall\" + -0.206*\"year\" + 0.189*\"war\" + 0.164*\"york\" + 0.160*\"small\" + 0.150*\"teenag\"'),\n",
              " (9,\n",
              "  '-0.300*\"citi\" + 0.288*\"film\" + -0.219*\"town\" + -0.213*\"york\" + 0.174*\"father\" + 0.169*\"agent\" + -0.164*\"stori\" + -0.156*\"angel\" + -0.152*\"three\" + 0.150*\"love\"')]"
            ]
          },
          "metadata": {
            "tags": []
          },
          "execution_count": 159
        }
      ]
    },
    {
      "cell_type": "markdown",
      "metadata": {
        "id": "O54gHTt3mu9H"
      },
      "source": [
        "We reduce dimensions using lsi on our tfidf data. The we print out the most common topics. It seems to be pretty generic movie topics like familiy, love, school and war. Nothing too exciting, so we'll make new dataframes containg \"action\",\"romance\" and \"Science fiction\" to see how the topics differ."
      ]
    },
    {
      "cell_type": "code",
      "metadata": {
        "id": "6tC1GghdpAsH"
      },
      "source": [
        "action = df[df[\"genres\"].str.contains(\"Action\")]\n",
        "romance = df[df[\"genres\"].str.contains(\"Romance\")]\n",
        "scifi = df[df[\"genres\"].str.contains(\"Science Fiction\")]"
      ],
      "execution_count": null,
      "outputs": []
    },
    {
      "cell_type": "code",
      "metadata": {
        "id": "VNuy2_Ry0yd7"
      },
      "source": [
        "words_action = itertools.chain(*action['tokenized_text'])\n",
        "words_romance = itertools.chain(*romance['tokenized_text'])\n",
        "words_scifi = itertools.chain(*scifi['tokenized_text'])"
      ],
      "execution_count": null,
      "outputs": []
    },
    {
      "cell_type": "code",
      "metadata": {
        "id": "UVOZopUo1RRT"
      },
      "source": [
        "counter_action = Counter(words_action)\n",
        "counter_romance = Counter(words_romance)\n",
        "counter_scifi = Counter(words_scifi)"
      ],
      "execution_count": null,
      "outputs": []
    },
    {
      "cell_type": "code",
      "metadata": {
        "id": "uHsFlgUW3yMg"
      },
      "source": [
        "action_bow = [dictionary.doc2bow(doc) for doc in action['tokenized_text']]\n",
        "romance_bow = [dictionary.doc2bow(doc) for doc in romance['tokenized_text']]\n",
        "scifi_bow = [dictionary.doc2bow(doc) for doc in scifi['tokenized_text']]"
      ],
      "execution_count": null,
      "outputs": []
    },
    {
      "cell_type": "code",
      "metadata": {
        "id": "jIEorZIN1JMG"
      },
      "source": [
        "action_tfidf = tfidf[action_bow]\n",
        "romance_tfidf = tfidf[romance_bow]\n",
        "scifi_tfidf = tfidf[scifi_bow]"
      ],
      "execution_count": null,
      "outputs": []
    },
    {
      "cell_type": "code",
      "metadata": {
        "id": "Jk1vlScT4Q0B"
      },
      "source": [
        "action_lsi = LsiModel(action_tfidf, num_topics = 5, id2word=dictionary)\n",
        "romance_lsi = LsiModel(romance_tfidf, num_topics = 5, id2word=dictionary)\n",
        "scifi_lsi = LsiModel(scifi_tfidf, num_topics = 5, id2word=dictionary)"
      ],
      "execution_count": null,
      "outputs": []
    },
    {
      "cell_type": "code",
      "metadata": {
        "id": "bS6T87SS1bnf",
        "colab": {
          "base_uri": "https://localhost:8080/"
        },
        "outputId": "b927d8bd-a782-40ce-89ea-bde9153fbea0"
      },
      "source": [
        "counter_action.most_common(10)"
      ],
      "execution_count": null,
      "outputs": [
        {
          "output_type": "execute_result",
          "data": {
            "text/plain": [
              "[('find', 197),\n",
              " ('world', 186),\n",
              " ('on', 166),\n",
              " ('must', 165),\n",
              " ('new', 164),\n",
              " ('forc', 162),\n",
              " ('becom', 156),\n",
              " ('take', 143),\n",
              " ('get', 136),\n",
              " ('man', 134)]"
            ]
          },
          "metadata": {
            "tags": []
          },
          "execution_count": 166
        }
      ]
    },
    {
      "cell_type": "code",
      "metadata": {
        "id": "XZHHHtJG4ZHr",
        "colab": {
          "base_uri": "https://localhost:8080/"
        },
        "outputId": "dfd74e69-e544-4bb8-e3dd-94aa85bf9353"
      },
      "source": [
        "action_lsi.print_topics(5)"
      ],
      "execution_count": null,
      "outputs": [
        {
          "output_type": "execute_result",
          "data": {
            "text/plain": [
              "[(0,\n",
              "  '0.156*\"forc\" + 0.153*\"must\" + 0.152*\"agent\" + 0.133*\"team\" + 0.124*\"war\" + 0.113*\"mission\" + 0.108*\"fight\" + 0.107*\"power\" + 0.107*\"kill\" + 0.105*\"save\"'),\n",
              " (1,\n",
              "  '-0.328*\"agent\" + -0.229*\"cop\" + 0.182*\"earth\" + 0.179*\"battl\" + 0.175*\"human\" + 0.153*\"planet\" + 0.149*\"race\" + -0.145*\"assassin\" + 0.143*\"vampir\" + 0.140*\"power\"'),\n",
              " (2,\n",
              "  '0.381*\"agent\" + -0.356*\"cop\" + 0.262*\"bond\" + 0.234*\"mission\" + -0.173*\"polic\" + 0.165*\"jame\" + -0.148*\"citi\" + 0.136*\"cia\" + -0.133*\"gang\" + -0.130*\"crimin\"'),\n",
              " (3,\n",
              "  '0.496*\"war\" + 0.276*\"battl\" + 0.267*\"soldier\" + -0.224*\"earth\" + -0.181*\"alien\" + -0.171*\"planet\" + -0.147*\"power\" + -0.147*\"save\" + -0.128*\"team\" + 0.124*\"armi\"'),\n",
              " (4,\n",
              "  '0.481*\"assassin\" + 0.270*\"kill\" + 0.232*\"target\" + -0.167*\"bond\" + -0.166*\"cop\" + -0.141*\"must\" + -0.139*\"agent\" + 0.137*\"reveng\" + -0.124*\"citi\" + 0.124*\"vampir\"')]"
            ]
          },
          "metadata": {
            "tags": []
          },
          "execution_count": 167
        }
      ]
    },
    {
      "cell_type": "markdown",
      "metadata": {
        "id": "Cfo5Lttcu--q"
      },
      "source": [
        "The topics of action movies are very diffent. This is pretty much what you use to explain the sterotypical action movie."
      ]
    },
    {
      "cell_type": "code",
      "metadata": {
        "id": "l3R59t-Z1iUi",
        "colab": {
          "base_uri": "https://localhost:8080/"
        },
        "outputId": "c37a5934-f5ca-422c-d910-7754255ce25c"
      },
      "source": [
        "counter_romance.most_common(10)"
      ],
      "execution_count": null,
      "outputs": [
        {
          "output_type": "execute_result",
          "data": {
            "text/plain": [
              "[('love', 288),\n",
              " ('life', 229),\n",
              " ('find', 178),\n",
              " ('young', 154),\n",
              " ('new', 141),\n",
              " ('get', 141),\n",
              " ('on', 137),\n",
              " ('friend', 131),\n",
              " ('man', 131),\n",
              " ('two', 127)]"
            ]
          },
          "metadata": {
            "tags": []
          },
          "execution_count": 168
        }
      ]
    },
    {
      "cell_type": "code",
      "metadata": {
        "id": "llJW9x404wuZ",
        "colab": {
          "base_uri": "https://localhost:8080/"
        },
        "outputId": "fcfa8f43-bd96-49b9-a2ed-f87807713f0e"
      },
      "source": [
        "romance_lsi.print_topics(5)"
      ],
      "execution_count": null,
      "outputs": [
        {
          "output_type": "execute_result",
          "data": {
            "text/plain": [
              "[(0,\n",
              "  '0.405*\"love\" + 0.225*\"fall\" + 0.163*\"woman\" + 0.138*\"meet\" + 0.127*\"romanc\" + 0.124*\"girl\" + 0.115*\"relationship\" + 0.114*\"stori\" + 0.107*\"marri\" + 0.095*\"beauti\"'),\n",
              " (1,\n",
              "  '0.659*\"love\" + 0.417*\"fall\" + -0.140*\"marriag\" + -0.131*\"marri\" + -0.130*\"relationship\" + -0.095*\"mother\" + -0.091*\"school\" + -0.090*\"coupl\" + -0.090*\"meet\" + -0.089*\"year\"'),\n",
              " (2,\n",
              "  '0.645*\"romanc\" + -0.231*\"girl\" + -0.198*\"mother\" + -0.175*\"daughter\" + -0.142*\"town\" + -0.137*\"father\" + 0.134*\"relationship\" + 0.121*\"student\" + 0.121*\"stori\" + -0.119*\"small\"'),\n",
              " (3,\n",
              "  '0.339*\"woman\" + 0.284*\"marri\" + -0.274*\"girl\" + -0.267*\"school\" + 0.253*\"marriag\" + -0.234*\"romanc\" + -0.202*\"high\" + 0.194*\"relationship\" + 0.186*\"coupl\" + -0.144*\"dai\"'),\n",
              " (4,\n",
              "  '0.418*\"fall\" + -0.303*\"stori\" + 0.226*\"meet\" + 0.209*\"school\" + 0.198*\"high\" + 0.182*\"marri\" + 0.176*\"student\" + 0.144*\"colleg\" + 0.135*\"marriag\" + -0.126*\"husband\"')]"
            ]
          },
          "metadata": {
            "tags": []
          },
          "execution_count": 169
        }
      ]
    },
    {
      "cell_type": "markdown",
      "metadata": {
        "id": "msC0Rtsmvdip"
      },
      "source": [
        "Looks like romance movies are often about love, romance and marriage. Not a huge surprise."
      ]
    },
    {
      "cell_type": "code",
      "metadata": {
        "id": "i1V6r5T95xJl",
        "colab": {
          "base_uri": "https://localhost:8080/"
        },
        "outputId": "e31cd929-1e22-48e6-a17c-edd20e8414fa"
      },
      "source": [
        "counter_scifi.most_common(10)"
      ],
      "execution_count": null,
      "outputs": [
        {
          "output_type": "execute_result",
          "data": {
            "text/plain": [
              "[('world', 128),\n",
              " ('find', 112),\n",
              " ('earth', 100),\n",
              " ('human', 93),\n",
              " ('on', 86),\n",
              " ('must', 82),\n",
              " ('planet', 81),\n",
              " ('year', 81),\n",
              " ('alien', 80),\n",
              " ('new', 80)]"
            ]
          },
          "metadata": {
            "tags": []
          },
          "execution_count": 170
        }
      ]
    },
    {
      "cell_type": "code",
      "metadata": {
        "id": "eVWKq6EG6J9t",
        "colab": {
          "base_uri": "https://localhost:8080/"
        },
        "outputId": "07711ecc-ddae-4a09-a1fc-453e5019ba20"
      },
      "source": [
        "scifi_lsi.print_topics(5)"
      ],
      "execution_count": null,
      "outputs": [
        {
          "output_type": "execute_result",
          "data": {
            "text/plain": [
              "[(0,\n",
              "  '0.330*\"earth\" + 0.316*\"planet\" + 0.292*\"alien\" + 0.222*\"human\" + 0.134*\"space\" + 0.134*\"power\" + 0.133*\"race\" + 0.127*\"crew\" + 0.123*\"must\" + 0.116*\"year\"'),\n",
              " (1,\n",
              "  '-0.482*\"planet\" + -0.421*\"alien\" + -0.287*\"earth\" + 0.195*\"futur\" + 0.175*\"robot\" + -0.150*\"crew\" + 0.143*\"power\" + 0.129*\"time\" + 0.114*\"evil\" + 0.108*\"citi\"'),\n",
              " (2,\n",
              "  '-0.566*\"alien\" + 0.323*\"space\" + 0.295*\"planet\" + -0.238*\"human\" + 0.216*\"earth\" + -0.166*\"race\" + 0.160*\"crew\" + 0.152*\"futur\" + 0.143*\"mission\" + -0.109*\"small\"'),\n",
              " (3,\n",
              "  '-0.611*\"human\" + 0.324*\"alien\" + -0.276*\"earth\" + -0.178*\"race\" + 0.168*\"time\" + 0.105*\"back\" + 0.103*\"secret\" + -0.088*\"power\" + 0.085*\"futur\" + -0.085*\"save\"'),\n",
              " (4,\n",
              "  '0.514*\"earth\" + -0.419*\"planet\" + -0.268*\"robot\" + -0.262*\"human\" + 0.205*\"power\" + 0.148*\"stop\" + 0.125*\"govern\" + -0.115*\"futur\" + 0.112*\"space\" + 0.102*\"mission\"')]"
            ]
          },
          "metadata": {
            "tags": []
          },
          "execution_count": 171
        }
      ]
    },
    {
      "cell_type": "markdown",
      "metadata": {
        "id": "AWJlQipxv4r7"
      },
      "source": [
        "the main topics of Science fiction is earth, planet, human and aliens. Pretty much what you expect from the average science fiction movie. The model generally does well at finding topics for each genre."
      ]
    },
    {
      "cell_type": "markdown",
      "metadata": {
        "id": "4URsjEkm-WKF"
      },
      "source": [
        "#Supervised machinelearning"
      ]
    },
    {
      "cell_type": "markdown",
      "metadata": {
        "id": "9y3cE_VFxYcM"
      },
      "source": [
        "We'll try to make a SML model which can predict the genre of movies based on their overview"
      ]
    },
    {
      "cell_type": "code",
      "metadata": {
        "id": "zqk57Pax-b5C"
      },
      "source": [
        "from sklearn.linear_model import LogisticRegression\n",
        "from gensim.matutils import corpus2csc,corpus2dense"
      ],
      "execution_count": null,
      "outputs": []
    },
    {
      "cell_type": "code",
      "metadata": {
        "id": "vuoYe0dw-2xa"
      },
      "source": [
        "X_train = corpus2csc(train_bow)\n",
        "X_test = corpus2csc(test_bow)"
      ],
      "execution_count": null,
      "outputs": []
    },
    {
      "cell_type": "code",
      "metadata": {
        "id": "ynPXfVRK-rEq"
      },
      "source": [
        "model = LogisticRegression()"
      ],
      "execution_count": null,
      "outputs": []
    },
    {
      "cell_type": "code",
      "metadata": {
        "id": "EUd69xYy-r9a"
      },
      "source": [
        "model.fit(X_train.T, movies_train[\"genres\"])"
      ],
      "execution_count": null,
      "outputs": []
    },
    {
      "cell_type": "code",
      "metadata": {
        "id": "7mqvQOEJAsis",
        "colab": {
          "base_uri": "https://localhost:8080/"
        },
        "outputId": "a9226263-10e4-40b4-e71d-4baa8f922d1f"
      },
      "source": [
        "model.score(X_test.T, movies_test[\"genres\"])"
      ],
      "execution_count": null,
      "outputs": [
        {
          "output_type": "execute_result",
          "data": {
            "text/plain": [
              "0.093255620316403"
            ]
          },
          "metadata": {
            "tags": []
          },
          "execution_count": 176
        }
      ]
    },
    {
      "cell_type": "markdown",
      "metadata": {
        "id": "NOvQn2Wxxm11"
      },
      "source": [
        "Our model is really bad and only gets a score if 0.09, but we're still going to defend it a bit. Most of the movies have multible genres and the model has to predict everyone correctly. So if our model guess 4/5 genres correctly it still counts as a wrong prediction. Also the genres are loosely defined and seems a bit arbitrary at times."
      ]
    },
    {
      "cell_type": "code",
      "metadata": {
        "id": "ht6nQDfoBbs8"
      },
      "source": [
        "predictions = pd.DataFrame(model.predict(X_test.T))\n",
        "predictions = predictions.rename(columns={0:\"predictions\"})"
      ],
      "execution_count": null,
      "outputs": []
    },
    {
      "cell_type": "code",
      "metadata": {
        "id": "eL_ixoSPB4Jb"
      },
      "source": [
        "movies_test = movies_test.reset_index()"
      ],
      "execution_count": null,
      "outputs": []
    },
    {
      "cell_type": "code",
      "metadata": {
        "id": "dsjKzq3-Boe1"
      },
      "source": [
        "new_df = movies_test.join(predictions)"
      ],
      "execution_count": null,
      "outputs": []
    },
    {
      "cell_type": "code",
      "metadata": {
        "id": "ygk7J3XM0wkQ",
        "colab": {
          "base_uri": "https://localhost:8080/",
          "height": 77
        },
        "outputId": "1d69839d-4e29-43f2-e7ee-1a37aa04dfe7"
      },
      "source": [
        "new_df[1:2]"
      ],
      "execution_count": null,
      "outputs": [
        {
          "output_type": "execute_result",
          "data": {
            "text/html": [
              "<div>\n",
              "<style scoped>\n",
              "    .dataframe tbody tr th:only-of-type {\n",
              "        vertical-align: middle;\n",
              "    }\n",
              "\n",
              "    .dataframe tbody tr th {\n",
              "        vertical-align: top;\n",
              "    }\n",
              "\n",
              "    .dataframe thead th {\n",
              "        text-align: right;\n",
              "    }\n",
              "</style>\n",
              "<table border=\"1\" class=\"dataframe\">\n",
              "  <thead>\n",
              "    <tr style=\"text-align: right;\">\n",
              "      <th></th>\n",
              "      <th>index</th>\n",
              "      <th>original_title</th>\n",
              "      <th>genres</th>\n",
              "      <th>overview</th>\n",
              "      <th>tokenized_text</th>\n",
              "      <th>predictions</th>\n",
              "    </tr>\n",
              "  </thead>\n",
              "  <tbody>\n",
              "    <tr>\n",
              "      <th>1</th>\n",
              "      <td>108</td>\n",
              "      <td>Terminator Genisys</td>\n",
              "      <td>[{'id': 878, 'name': 'Science Fiction'}, {'id'...</td>\n",
              "      <td>the year is 2029. john connor, leader of the r...</td>\n",
              "      <td>[year, john, connor, leader, resist, continu, ...</td>\n",
              "      <td>[{'id': 28, 'name': 'Action'}, {'id': 53, 'nam...</td>\n",
              "    </tr>\n",
              "  </tbody>\n",
              "</table>\n",
              "</div>"
            ],
            "text/plain": [
              "   index  ...                                        predictions\n",
              "1    108  ...  [{'id': 28, 'name': 'Action'}, {'id': 53, 'nam...\n",
              "\n",
              "[1 rows x 6 columns]"
            ]
          },
          "metadata": {
            "tags": []
          },
          "execution_count": 255
        }
      ]
    },
    {
      "cell_type": "code",
      "metadata": {
        "id": "1-faqpk_BrJC",
        "colab": {
          "base_uri": "https://localhost:8080/"
        },
        "outputId": "528e84b4-c719-423f-b810-7f2bb709007b"
      },
      "source": [
        "print(new_df.genres[1])\n",
        "print(new_df.predictions[1])"
      ],
      "execution_count": null,
      "outputs": [
        {
          "output_type": "stream",
          "text": [
            "[{'id': 878, 'name': 'Science Fiction'}, {'id': 28, 'name': 'Action'}, {'id': 53, 'name': 'Thriller'}, {'id': 12, 'name': 'Adventure'}]\n",
            "[{'id': 28, 'name': 'Action'}, {'id': 53, 'name': 'Thriller'}, {'id': 878, 'name': 'Science Fiction'}]\n"
          ],
          "name": "stdout"
        }
      ]
    },
    {
      "cell_type": "markdown",
      "metadata": {
        "id": "DGjUx0t90l-Z"
      },
      "source": [
        "This is a good example of why our model gets such a bad score. It predicts right with all three genres, but dosn't include the last genre (Adventure). We looked up the movie (Terminator Genisys) and it's classified as SciFi/Action/ Thriller/Adventure on most sites, but different sites have different combinations of the four and dosn't always include all four. So it's difficult for our model to predict genres when they are so losely applied."
      ]
    },
    {
      "cell_type": "code",
      "metadata": {
        "id": "BOx5a5phgW0E"
      },
      "source": [
        "import json"
      ],
      "execution_count": null,
      "outputs": []
    },
    {
      "cell_type": "code",
      "metadata": {
        "id": "5EAqJebGzCnQ"
      },
      "source": [
        "new_df[\"genres\"] = [json.loads(row) for row in new_df[\"genres\"]]\n",
        "new_df[\"predictions\"] =  [json.loads(row) for row in new_df[\"predictions\"]]"
      ],
      "execution_count": null,
      "outputs": []
    },
    {
      "cell_type": "code",
      "metadata": {
        "id": "lFk0jO2n0a5L",
        "colab": {
          "base_uri": "https://localhost:8080/"
        },
        "outputId": "3c66ac58-f6dc-4c99-eee3-f4057e5a4904"
      },
      "source": [
        "print(any(item in new_df.genres[0] for item in new_df.predictions[0]))\n",
        "print(any(item in new_df.genres[1] for item in new_df.predictions[1]))\n",
        "print(any(item in new_df.genres[2] for item in new_df.predictions[2]))\n",
        "print(any(item in new_df.genres[3] for item in new_df.predictions[3]))\n",
        "print(any(item in new_df.genres[4] for item in new_df.predictions[4]))\n",
        "print(any(item in new_df.genres[5] for item in new_df.predictions[5]))\n",
        "print(any(item in new_df.genres[6] for item in new_df.predictions[6]))\n",
        "print(any(item in new_df.genres[7] for item in new_df.predictions[7]))\n",
        "print(any(item in new_df.genres[8] for item in new_df.predictions[8]))\n",
        "print(any(item in new_df.genres[9] for item in new_df.predictions[9]))\n",
        "print(any(item in new_df.genres[10] for item in new_df.predictions[10]))\n",
        "print(any(item in new_df.genres[11] for item in new_df.predictions[11]))\n",
        "print(any(item in new_df.genres[12] for item in new_df.predictions[12]))\n",
        "print(any(item in new_df.genres[13] for item in new_df.predictions[13]))\n",
        "print(any(item in new_df.genres[14] for item in new_df.predictions[14]))\n",
        "print(any(item in new_df.genres[15] for item in new_df.predictions[15]))\n",
        "print(any(item in new_df.genres[16] for item in new_df.predictions[16]))\n",
        "print(any(item in new_df.genres[17] for item in new_df.predictions[17]))\n",
        "print(any(item in new_df.genres[18] for item in new_df.predictions[18]))\n",
        "print(any(item in new_df.genres[19] for item in new_df.predictions[19]))"
      ],
      "execution_count": null,
      "outputs": [
        {
          "output_type": "stream",
          "text": [
            "True\n",
            "True\n",
            "True\n",
            "False\n",
            "True\n",
            "True\n",
            "True\n",
            "False\n",
            "True\n",
            "False\n",
            "False\n",
            "True\n",
            "False\n",
            "True\n",
            "False\n",
            "True\n",
            "True\n",
            "True\n",
            "True\n",
            "True\n"
          ],
          "name": "stdout"
        }
      ]
    },
    {
      "cell_type": "markdown",
      "metadata": {
        "id": "NVAOO-3a2M86"
      },
      "source": [
        "This shows true when the model predicts at least one genre correctly. in 14/20 cases it predicts one of the genres right. This just show that, while still not being great, the model is better than the score otherwise sugest.\n",
        "\n",
        "We coudn't get that code to run the whole dataset, so we had to do it manually. Thats why we only included a sample size of 20."
      ]
    },
    {
      "cell_type": "markdown",
      "metadata": {
        "id": "uHtNl5WRJu9A"
      },
      "source": [
        "# Recommender\n",
        "Lastly we want to build a recommender that can recommend movies based on text or title."
      ]
    },
    {
      "cell_type": "code",
      "metadata": {
        "id": "zNwW4n2okLXe"
      },
      "source": [
        "from gensim.similarities import MatrixSimilarity"
      ],
      "execution_count": null,
      "outputs": []
    },
    {
      "cell_type": "code",
      "metadata": {
        "id": "yyU7H0_UvHqp",
        "colab": {
          "base_uri": "https://localhost:8080/"
        },
        "outputId": "97d78c2e-c716-4e9a-d96b-0720dd14ac41"
      },
      "source": [
        "train_lsi_corpus = corpus2dense(train_corpus_lsi, 100 )"
      ],
      "execution_count": null,
      "outputs": [
        {
          "output_type": "stream",
          "text": [
            "/usr/local/lib/python3.6/dist-packages/gensim/matutils.py:502: FutureWarning: arrays to stack must be passed as a \"sequence\" type such as list or tuple. Support for non-sequence iterables such as generators is deprecated as of NumPy 1.16 and will raise an error in the future.\n",
            "  result = np.column_stack(sparse2full(doc, num_terms) for doc in corpus)\n"
          ],
          "name": "stderr"
        }
      ]
    },
    {
      "cell_type": "code",
      "metadata": {
        "id": "OLkok33mkUcH",
        "colab": {
          "base_uri": "https://localhost:8080/"
        },
        "outputId": "3c96e945-c579-46de-cbae-b39ab61fba7a"
      },
      "source": [
        "document_topic_matrix_train = MatrixSimilarity(train_corpus_lsi)"
      ],
      "execution_count": null,
      "outputs": [
        {
          "output_type": "stream",
          "text": [
            "/usr/local/lib/python3.6/dist-packages/gensim/matutils.py:737: FutureWarning: Conversion of the second argument of issubdtype from `int` to `np.signedinteger` is deprecated. In future, it will be treated as `np.int64 == np.dtype(int).type`.\n",
            "  if np.issubdtype(vec.dtype, np.int):\n"
          ],
          "name": "stderr"
        }
      ]
    },
    {
      "cell_type": "code",
      "metadata": {
        "id": "aoUcLSntBMkK",
        "colab": {
          "base_uri": "https://localhost:8080/"
        },
        "outputId": "86dd57fe-aa9f-41ec-a6f1-b9dfe253cadf"
      },
      "source": [
        "model2 = LogisticRegression()\n",
        "\n",
        "model2.fit(train_lsi_corpus.T, movies_train.original_title)"
      ],
      "execution_count": null,
      "outputs": [
        {
          "output_type": "execute_result",
          "data": {
            "text/plain": [
              "LogisticRegression(C=1.0, class_weight=None, dual=False, fit_intercept=True,\n",
              "                   intercept_scaling=1, l1_ratio=None, max_iter=100,\n",
              "                   multi_class='auto', n_jobs=None, penalty='l2',\n",
              "                   random_state=None, solver='lbfgs', tol=0.0001, verbose=0,\n",
              "                   warm_start=False)"
            ]
          },
          "metadata": {
            "tags": []
          },
          "execution_count": 188
        }
      ]
    },
    {
      "cell_type": "code",
      "metadata": {
        "id": "6qvKy2c3cdKe"
      },
      "source": [
        "def recommender_text(text):\n",
        "  vec_bow = dictionary.doc2bow(text.lower().split()) # convert to bag of words\n",
        "  vec_tfidf = tfidf[vec_bow] # convert to tfidf\n",
        "  vec_lsi = movies_lsi[vec_tfidf]  # convert to LSI\n",
        "  sim = document_topic_matrix_train[vec_lsi] # # finding similar movies\n",
        "\n",
        "  sim = sorted(enumerate(sim), key=lambda item: -item[1])\n",
        "  for i, s in sim[:10]: #ten most similar texts\n",
        "    print(s, movies_train.iloc[i,:]['original_title'])"
      ],
      "execution_count": null,
      "outputs": []
    },
    {
      "cell_type": "code",
      "metadata": {
        "id": "59u9YxWWb84v"
      },
      "source": [
        "def recommender_title(movie):\n",
        "  mov = df[df.original_title ==movie]\n",
        "  doc = pd.DataFrame(mov[\"overview\"]).to_string(index=False)\n",
        "  vec_bow = dictionary.doc2bow(doc.lower().split()) # convert to bag of words\n",
        "  vec_tfidf = tfidf[vec_bow] # convert to tfidf\n",
        "  vec_lsi = movies_lsi[vec_tfidf]  # convert to LSI\n",
        "  sim = document_topic_matrix_train[vec_lsi] # finding similar movies\n",
        "\n",
        "  sim = sorted(enumerate(sim), key=lambda item: -item[1])\n",
        "  for i, s in sim[:10]: #ten most similar texts\n",
        "    print(s, movies_train.iloc[i,:]['original_title'])"
      ],
      "execution_count": null,
      "outputs": []
    },
    {
      "cell_type": "markdown",
      "metadata": {
        "id": "6VFSLHzwNnrx"
      },
      "source": [
        "We basically train a model to find similarities between topics. \n",
        "\n",
        "We define two recommender functions which recommends similar movies based on text or title. The one based on text takes text that your find interesting, and turns it into BoW -> tfidf -> LSI and then find similar movies.\n",
        "\n",
        "The one based on movie title pretty much does the same. I just take a movie title and find the overview for that title, and uses that insted of free text."
      ]
    },
    {
      "cell_type": "code",
      "metadata": {
        "id": "OVnFNv5Bs7WE",
        "colab": {
          "base_uri": "https://localhost:8080/"
        },
        "outputId": "9479d1ae-5529-4432-eaf1-2d93936b4d98"
      },
      "source": [
        "recommender_text(\"A movie about a man and a woman who finds eachother and falls in love and gets married\")"
      ],
      "execution_count": null,
      "outputs": [
        {
          "output_type": "stream",
          "text": [
            "0.9870193 Shallow Hal\n",
            "0.9736098 Tom Jones\n",
            "0.9585324 Boys Don't Cry\n",
            "0.9510197 Mary Reilly\n",
            "0.95028865 Swept Away\n",
            "0.9490335 You've Got Mail\n",
            "0.94870824 Goddess of Love\n",
            "0.9483028 Two Girls and a Guy\n",
            "0.9473694 Never Again\n",
            "0.9471235 Entrapment\n"
          ],
          "name": "stdout"
        }
      ]
    },
    {
      "cell_type": "markdown",
      "metadata": {
        "id": "juEPE7h3seAv"
      },
      "source": [
        "Wrote a pretty stereotypical description of a romantic movie and got recommended 10 romantic movies, so the model seems to work"
      ]
    },
    {
      "cell_type": "code",
      "metadata": {
        "id": "uPQQ7gPitOi7",
        "colab": {
          "base_uri": "https://localhost:8080/"
        },
        "outputId": "f8cd64a2-f5db-41c6-d919-9b84705767e3"
      },
      "source": [
        "recommender_text(\"a spacecrew goes to another planet in a spaceship and finds aliens and mystery\")"
      ],
      "execution_count": null,
      "outputs": [
        {
          "output_type": "stream",
          "text": [
            "0.98720086 The Hitchhiker's Guide to the Galaxy\n",
            "0.9672271 キャプテンハーロック\n",
            "0.95243484 Lost in Space\n",
            "0.948331 Rejsen til Saturn\n",
            "0.94221497 Meet Dave\n",
            "0.93761617 Space Battleship Yamato\n",
            "0.93724334 Faith Connections\n",
            "0.93302846 Flash Gordon\n",
            "0.92076385 Jason X\n",
            "0.9206224 Battlefield Earth\n"
          ],
          "name": "stdout"
        }
      ]
    },
    {
      "cell_type": "markdown",
      "metadata": {
        "id": "4uC1l5zBtnKR"
      },
      "source": [
        "This time we tried with a SciFi text."
      ]
    },
    {
      "cell_type": "code",
      "metadata": {
        "id": "vhkVlkxktccO",
        "colab": {
          "base_uri": "https://localhost:8080/"
        },
        "outputId": "caa0bcdc-220d-4515-fdb8-0fafdb6bea3d"
      },
      "source": [
        "recommender_text(\"a hero saves the city by fighting and killing evil criminal terrorist villians\")"
      ],
      "execution_count": null,
      "outputs": [
        {
          "output_type": "stream",
          "text": [
            "0.95327806 Foodfight!\n",
            "0.94307065 Star Wars\n",
            "0.917028 Iron Man\n",
            "0.91555077 American Ninja 2: The Confrontation\n",
            "0.90863323 Percy Jackson: Sea of Monsters\n",
            "0.9077703 Tears of the Sun\n",
            "0.90360516 A Bug's Life\n",
            "0.9002557 Gods of Egypt\n",
            "0.89945877 Yoga Hosers\n",
            "0.8974423 Lara Croft Tomb Raider: The Cradle of Life\n"
          ],
          "name": "stdout"
        }
      ]
    },
    {
      "cell_type": "markdown",
      "metadata": {
        "id": "-yvSYzjUukey"
      },
      "source": [
        "Lastly we tried with a action plot and got these 10 movies. The model doesn't necessarily recommend good movies, but this could be fixed easily by simply removing movies with a low score"
      ]
    },
    {
      "cell_type": "code",
      "metadata": {
        "id": "R17Sjz9tl1qB",
        "colab": {
          "base_uri": "https://localhost:8080/"
        },
        "outputId": "8a709df6-2c17-4128-bec6-fdf2e6be32fa"
      },
      "source": [
        "recommender_title(\"Walk the Line\")"
      ],
      "execution_count": null,
      "outputs": [
        {
          "output_type": "stream",
          "text": [
            "0.93166286 I'm Not There.\n",
            "0.9119216 Dreamgirls\n",
            "0.8929023 House of D\n",
            "0.8835296 Bullets Over Broadway\n",
            "0.87108594 Chasing Mavericks\n",
            "0.86903495 The Broken Hearts Club: A Romantic Comedy\n",
            "0.8657029 20 Feet from Stardom\n",
            "0.85778624 Water\n",
            "0.85426545 Ha-Buah\n",
            "0.84962314 Green Room\n"
          ],
          "name": "stdout"
        }
      ]
    },
    {
      "cell_type": "code",
      "metadata": {
        "id": "fgjN1JNIne-t",
        "colab": {
          "base_uri": "https://localhost:8080/"
        },
        "outputId": "a0461651-32e4-4462-fe51-4b4c5961c02b"
      },
      "source": [
        "recommender_title(\"Avatar\")"
      ],
      "execution_count": null,
      "outputs": [
        {
          "output_type": "stream",
          "text": [
            "0.95500165 The Hitchhiker's Guide to the Galaxy\n",
            "0.94261056 Escape from Planet Earth\n",
            "0.93323934 Faith Connections\n",
            "0.9321781 Titan A.E.\n",
            "0.90950584 Meet Dave\n",
            "0.8944231 Konferenz der Tiere\n",
            "0.88850063 Star Trek IV: The Voyage Home\n",
            "0.88645846 Rejsen til Saturn\n",
            "0.8795259 キャプテンハーロック\n",
            "0.87795913 Space Battleship Yamato\n"
          ],
          "name": "stdout"
        }
      ]
    },
    {
      "cell_type": "code",
      "metadata": {
        "id": "s68VxpTdcCdo",
        "colab": {
          "base_uri": "https://localhost:8080/"
        },
        "outputId": "8f9cbaf7-a126-4703-8391-2e97a0a4a309"
      },
      "source": [
        "recommender_title(\"Indiana Jones and the Last Crusade\")"
      ],
      "execution_count": null,
      "outputs": [
        {
          "output_type": "stream",
          "text": [
            "0.9772423 Maze Runner: The Scorch Trials\n",
            "0.9760797 Capricorn One\n",
            "0.9669175 Transcendence\n",
            "0.9599792 Star Wars\n",
            "0.95481193 Kung Fu Panda 2\n",
            "0.95388263 Sanctum\n",
            "0.9508109 G-Force\n",
            "0.95037246 X2\n",
            "0.9493724 兔侠传奇\n",
            "0.94769317 Death Race 2000\n"
          ],
          "name": "stdout"
        }
      ]
    },
    {
      "cell_type": "markdown",
      "metadata": {
        "id": "99OZAyONwbVL"
      },
      "source": [
        "It works with titles as well. The model only takes text into account, so it could definitely be improved by including other data as well. There are multiple Indiana Jones movies in the dataset, so a better recommender would probably recommend them before Kung fu panda 2, by taking actors, directors eg. into account."
      ]
    }
  ]
}